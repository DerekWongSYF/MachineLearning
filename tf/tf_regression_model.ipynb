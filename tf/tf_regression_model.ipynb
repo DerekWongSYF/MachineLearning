{
 "cells": [
  {
   "cell_type": "code",
   "execution_count": 56,
   "metadata": {},
   "outputs": [
    {
     "data": {
      "text/plain": [
       "'0.23.4'"
      ]
     },
     "execution_count": 56,
     "metadata": {},
     "output_type": "execute_result"
    }
   ],
   "source": [
    "import matplotlib as mpl\n",
    "import matplotlib.pyplot as plt\n",
    "%matplotlib inline\n",
    "import numpy as np\n",
    "import pandas as pd\n",
    "import os\n",
    "import sys\n",
    "import time\n",
    "import tensorflow as tf\n",
    "from tensorflow import keras\n",
    "\n",
    "pd.__version__"
   ]
  },
  {
   "cell_type": "markdown",
   "metadata": {},
   "source": [
    "### 导入数据集"
   ]
  },
  {
   "cell_type": "code",
   "execution_count": 48,
   "metadata": {},
   "outputs": [
    {
     "name": "stdout",
     "output_type": "stream",
     "text": [
      ".. _california_housing_dataset:\n",
      "\n",
      "California Housing dataset\n",
      "--------------------------\n",
      "\n",
      "**Data Set Characteristics:**\n",
      "\n",
      "    :Number of Instances: 20640\n",
      "\n",
      "    :Number of Attributes: 8 numeric, predictive attributes and the target\n",
      "\n",
      "    :Attribute Information:\n",
      "        - MedInc        median income in block\n",
      "        - HouseAge      median house age in block\n",
      "        - AveRooms      average number of rooms\n",
      "        - AveBedrms     average number of bedrooms\n",
      "        - Population    block population\n",
      "        - AveOccup      average house occupancy\n",
      "        - Latitude      house block latitude\n",
      "        - Longitude     house block longitude\n",
      "\n",
      "    :Missing Attribute Values: None\n",
      "\n",
      "This dataset was obtained from the StatLib repository.\n",
      "http://lib.stat.cmu.edu/datasets/\n",
      "\n",
      "The target variable is the median house value for California districts.\n",
      "\n",
      "This dataset was derived from the 1990 U.S. census, using one row per census\n",
      "block group. A block group is the smallest geographical unit for which the U.S.\n",
      "Census Bureau publishes sample data (a block group typically has a population\n",
      "of 600 to 3,000 people).\n",
      "\n",
      "It can be downloaded/loaded using the\n",
      ":func:`sklearn.datasets.fetch_california_housing` function.\n",
      "\n",
      ".. topic:: References\n",
      "\n",
      "    - Pace, R. Kelley and Ronald Barry, Sparse Spatial Autoregressions,\n",
      "      Statistics and Probability Letters, 33 (1997) 291-297\n",
      "\n",
      "(20640, 8)\n",
      "(20640,)\n"
     ]
    }
   ],
   "source": [
    "from sklearn.datasets import fetch_california_housing\n",
    "housing = fetch_california_housing()\n",
    "print(housing.DESCR)\n",
    "print(housing.data.shape)\n",
    "print(housing.target.shape)"
   ]
  },
  {
   "cell_type": "code",
   "execution_count": 49,
   "metadata": {},
   "outputs": [
    {
     "name": "stdout",
     "output_type": "stream",
     "text": [
      "(11610, 8) (11610,)\n",
      "(3870, 8) (3870,)\n"
     ]
    }
   ],
   "source": [
    "from sklearn.model_selection import train_test_split\n",
    "x_train_all, x_test, y_train_all, y_test = train_test_split(housing.data, housing.target, random_state = 7)\n",
    "x_train, x_valid, y_train, y_valid = train_test_split(x_train_all, y_train_all,  random_state = 11)\n",
    "print(x_train.shape, y_train.shape)\n",
    "print(x_valid.shape, y_valid.shape)"
   ]
  },
  {
   "cell_type": "code",
   "execution_count": 50,
   "metadata": {},
   "outputs": [],
   "source": [
    "from sklearn.preprocessing import StandardScaler\n",
    "scaler = StandardScaler()\n",
    "x_train_scaled = scaler.fit_transform(x_train)\n",
    "x_test_scaled = scaler.transform(x_test)\n",
    "x_valid_scaled = scaler.transform(x_valid)"
   ]
  },
  {
   "cell_type": "markdown",
   "metadata": {},
   "source": [
    "### 构建模型"
   ]
  },
  {
   "cell_type": "code",
   "execution_count": 51,
   "metadata": {},
   "outputs": [],
   "source": [
    "model = keras.models.Sequential([\n",
    "    keras.layers.Dense(30, activation='relu', input_shape=x_train.shape[1:]),\n",
    "    keras.layers.Dense(1),\n",
    "])\n",
    "model.compile(loss='mean_squared_error', optimizer='adam')"
   ]
  },
  {
   "cell_type": "code",
   "execution_count": 37,
   "metadata": {
    "scrolled": true
   },
   "outputs": [
    {
     "name": "stdout",
     "output_type": "stream",
     "text": [
      "Train on 11610 samples, validate on 3870 samples\n",
      "Epoch 1/50\n",
      "11610/11610 [==============================] - 2s 184us/sample - loss: 1.7370 - val_loss: 0.6975\n",
      "Epoch 2/50\n",
      "11610/11610 [==============================] - 1s 97us/sample - loss: 0.5873 - val_loss: 0.5504\n",
      "Epoch 3/50\n",
      "11610/11610 [==============================] - 1s 107us/sample - loss: 0.4719 - val_loss: 0.4599\n",
      "Epoch 4/50\n",
      "11610/11610 [==============================] - 1s 87us/sample - loss: 0.4224 - val_loss: 0.4303\n",
      "Epoch 5/50\n",
      "11610/11610 [==============================] - 1s 76us/sample - loss: 0.4007 - val_loss: 0.4081\n",
      "Epoch 6/50\n",
      "11610/11610 [==============================] - 1s 75us/sample - loss: 0.3894 - val_loss: 0.4028\n",
      "Epoch 7/50\n",
      "11610/11610 [==============================] - 1s 79us/sample - loss: 0.3812 - val_loss: 0.3938\n",
      "Epoch 8/50\n",
      "11610/11610 [==============================] - 1s 80us/sample - loss: 0.3757 - val_loss: 0.3879\n",
      "Epoch 9/50\n",
      "11610/11610 [==============================] - 1s 80us/sample - loss: 0.3713 - val_loss: 0.3820\n",
      "Epoch 10/50\n",
      "11610/11610 [==============================] - 1s 79us/sample - loss: 0.3721 - val_loss: 0.3752\n",
      "Epoch 11/50\n",
      "11610/11610 [==============================] - 1s 79us/sample - loss: 0.3668 - val_loss: 0.3733\n",
      "Epoch 12/50\n",
      "11610/11610 [==============================] - 1s 90us/sample - loss: 0.3598 - val_loss: 0.3674\n",
      "Epoch 13/50\n",
      "11610/11610 [==============================] - 1s 92us/sample - loss: 0.3576 - val_loss: 0.3670\n",
      "Epoch 14/50\n",
      "11610/11610 [==============================] - 1s 88us/sample - loss: 0.3536 - val_loss: 0.3636\n",
      "Epoch 15/50\n",
      "11610/11610 [==============================] - 1s 111us/sample - loss: 0.3526 - val_loss: 0.3611\n",
      "Epoch 16/50\n",
      "11610/11610 [==============================] - 1s 106us/sample - loss: 0.3489 - val_loss: 0.3589\n",
      "Epoch 17/50\n",
      "11610/11610 [==============================] - 1s 73us/sample - loss: 0.3534 - val_loss: 0.3561\n",
      "Epoch 18/50\n",
      "11610/11610 [==============================] - 1s 91us/sample - loss: 0.3460 - val_loss: 0.3517\n",
      "Epoch 19/50\n",
      "11610/11610 [==============================] - 1s 83us/sample - loss: 0.3454 - val_loss: 0.3536\n",
      "Epoch 20/50\n",
      "11610/11610 [==============================] - 1s 81us/sample - loss: 0.3422 - val_loss: 0.3508\n",
      "Epoch 21/50\n",
      "11610/11610 [==============================] - 1s 84us/sample - loss: 0.3410 - val_loss: 0.3498\n",
      "Epoch 22/50\n",
      "11610/11610 [==============================] - 1s 78us/sample - loss: 0.3393 - val_loss: 0.3455\n",
      "Epoch 23/50\n",
      "11610/11610 [==============================] - 1s 82us/sample - loss: 0.3386 - val_loss: 0.3490\n",
      "Epoch 24/50\n",
      "11610/11610 [==============================] - 1s 107us/sample - loss: 0.3349 - val_loss: 0.3462\n",
      "Epoch 25/50\n",
      "11610/11610 [==============================] - 1s 91us/sample - loss: 0.3365 - val_loss: 0.3404\n",
      "Epoch 26/50\n",
      "11610/11610 [==============================] - 1s 84us/sample - loss: 0.3345 - val_loss: 0.3442\n",
      "Epoch 27/50\n",
      "11610/11610 [==============================] - 1s 84us/sample - loss: 0.3350 - val_loss: 0.3426\n",
      "Epoch 28/50\n",
      "11610/11610 [==============================] - 1s 88us/sample - loss: 0.3350 - val_loss: 0.3437\n",
      "Epoch 29/50\n",
      "11610/11610 [==============================] - 1s 88us/sample - loss: 0.3318 - val_loss: 0.3417\n",
      "Epoch 30/50\n",
      "11610/11610 [==============================] - 1s 93us/sample - loss: 0.3284 - val_loss: 0.3390\n",
      "Epoch 31/50\n",
      "11610/11610 [==============================] - 1s 95us/sample - loss: 0.3279 - val_loss: 0.3394\n",
      "Epoch 32/50\n",
      "11610/11610 [==============================] - 1s 89us/sample - loss: 0.3295 - val_loss: 0.3379\n",
      "Epoch 33/50\n",
      "11610/11610 [==============================] - 1s 80us/sample - loss: 0.3313 - val_loss: 0.3335\n",
      "Epoch 34/50\n",
      "11610/11610 [==============================] - 1s 78us/sample - loss: 0.3250 - val_loss: 0.3367\n",
      "Epoch 35/50\n",
      "11610/11610 [==============================] - 1s 78us/sample - loss: 0.3251 - val_loss: 0.3440\n",
      "Epoch 36/50\n",
      "11610/11610 [==============================] - 1s 81us/sample - loss: 0.3274 - val_loss: 0.3492\n",
      "Epoch 37/50\n",
      "11610/11610 [==============================] - 1s 85us/sample - loss: 0.3250 - val_loss: 0.3372\n",
      "Epoch 38/50\n",
      "11610/11610 [==============================] - 1s 96us/sample - loss: 0.3219 - val_loss: 0.3324\n",
      "Epoch 39/50\n",
      "11610/11610 [==============================] - 1s 100us/sample - loss: 0.3219 - val_loss: 0.3291\n",
      "Epoch 40/50\n",
      "11610/11610 [==============================] - 1s 92us/sample - loss: 0.3222 - val_loss: 0.3322\n",
      "Epoch 41/50\n",
      "11610/11610 [==============================] - 1s 91us/sample - loss: 0.3254 - val_loss: 0.3300\n",
      "Epoch 42/50\n",
      "11610/11610 [==============================] - 1s 94us/sample - loss: 0.3219 - val_loss: 0.3301\n",
      "Epoch 43/50\n",
      "11610/11610 [==============================] - 1s 93us/sample - loss: 0.3191 - val_loss: 0.3311\n",
      "Epoch 44/50\n",
      "11610/11610 [==============================] - 1s 93us/sample - loss: 0.3210 - val_loss: 0.3329\n",
      "Epoch 45/50\n",
      "11610/11610 [==============================] - 1s 93us/sample - loss: 0.3212 - val_loss: 0.3278\n",
      "Epoch 46/50\n",
      "11610/11610 [==============================] - 1s 91us/sample - loss: 0.3179 - val_loss: 0.3265\n",
      "Epoch 47/50\n",
      "11610/11610 [==============================] - 1s 93us/sample - loss: 0.3161 - val_loss: 0.3304\n",
      "Epoch 48/50\n",
      "11610/11610 [==============================] - 1s 103us/sample - loss: 0.3221 - val_loss: 0.3287\n",
      "Epoch 49/50\n",
      "11610/11610 [==============================] - 1s 94us/sample - loss: 0.3178 - val_loss: 0.3261\n",
      "Epoch 50/50\n",
      "11610/11610 [==============================] - 1s 94us/sample - loss: 0.3148 - val_loss: 0.3294\n"
     ]
    }
   ],
   "source": [
    "history = model.fit(x_train_scaled, y_train, validation_data=(x_valid_scaled, y_valid), epochs=50)"
   ]
  },
  {
   "cell_type": "code",
   "execution_count": 59,
   "metadata": {},
   "outputs": [],
   "source": [
    "def plot_result(history):\n",
    "    pd.DataFrame(history.history).plot(figsize = (8, 5))\n",
    "    plt.grid(True)\n",
    "    plt.gca().set_ylim(0, 1)\n",
    "    plt.show()"
   ]
  },
  {
   "cell_type": "code",
   "execution_count": 60,
   "metadata": {},
   "outputs": [
    {
     "data": {
      "image/png": "[encoded data removed]",
      "text/plain": [
       "<Figure size 576x360 with 1 Axes>"
      ]
     },
     "metadata": {
      "needs_background": "light"
     },
     "output_type": "display_data"
    }
   ],
   "source": [
    "plot_result(history)"
   ]
  },
  {
   "cell_type": "code",
   "execution_count": null,
   "metadata": {
    "scrolled": true
   },
   "outputs": [],
   "source": []
  },
  {
   "cell_type": "code",
   "execution_count": null,
   "metadata": {},
   "outputs": [],
   "source": []
  },
  {
   "cell_type": "code",
   "execution_count": null,
   "metadata": {},
   "outputs": [],
   "source": []
  }
 ],
 "metadata": {
  "kernelspec": {
   "display_name": "Python 3",
   "language": "python",
   "name": "python3"
  },
  "language_info": {
   "codemirror_mode": {
    "name": "ipython",
    "version": 3
   },
   "file_extension": ".py",
   "mimetype": "text/x-python",
   "name": "python",
   "nbconvert_exporter": "python",
   "pygments_lexer": "ipython3",
   "version": "3.6.8"
  }
 },
 "nbformat": 4,
 "nbformat_minor": 2
}

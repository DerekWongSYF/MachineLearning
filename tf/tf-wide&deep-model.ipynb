{
 "cells": [
  {
   "cell_type": "code",
   "execution_count": 25,
   "metadata": {},
   "outputs": [
    {
     "data": {
      "text/plain": [
       "'0.24.2'"
      ]
     },
     "execution_count": 25,
     "metadata": {},
     "output_type": "execute_result"
    }
   ],
   "source": [
    "import matplotlib as mpl\n",
    "import matplotlib.pyplot as plt\n",
    "%matplotlib inline\n",
    "import numpy as np\n",
    "import pandas as pd\n",
    "import os\n",
    "import sys\n",
    "import time\n",
    "import tensorflow as tf\n",
    "from tensorflow import keras\n",
    "\n",
    "pd.__version__"
   ]
  },
  {
   "cell_type": "markdown",
   "metadata": {},
   "source": [
    "### 导入数据集"
   ]
  },
  {
   "cell_type": "code",
   "execution_count": 3,
   "metadata": {},
   "outputs": [
    {
     "name": "stdout",
     "output_type": "stream",
     "text": [
      ".. _california_housing_dataset:\n",
      "\n",
      "California Housing dataset\n",
      "--------------------------\n",
      "\n",
      "**Data Set Characteristics:**\n",
      "\n",
      "    :Number of Instances: 20640\n",
      "\n",
      "    :Number of Attributes: 8 numeric, predictive attributes and the target\n",
      "\n",
      "    :Attribute Information:\n",
      "        - MedInc        median income in block\n",
      "        - HouseAge      median house age in block\n",
      "        - AveRooms      average number of rooms\n",
      "        - AveBedrms     average number of bedrooms\n",
      "        - Population    block population\n",
      "        - AveOccup      average house occupancy\n",
      "        - Latitude      house block latitude\n",
      "        - Longitude     house block longitude\n",
      "\n",
      "    :Missing Attribute Values: None\n",
      "\n",
      "This dataset was obtained from the StatLib repository.\n",
      "http://lib.stat.cmu.edu/datasets/\n",
      "\n",
      "The target variable is the median house value for California districts.\n",
      "\n",
      "This dataset was derived from the 1990 U.S. census, using one row per census\n",
      "block group. A block group is the smallest geographical unit for which the U.S.\n",
      "Census Bureau publishes sample data (a block group typically has a population\n",
      "of 600 to 3,000 people).\n",
      "\n",
      "It can be downloaded/loaded using the\n",
      ":func:`sklearn.datasets.fetch_california_housing` function.\n",
      "\n",
      ".. topic:: References\n",
      "\n",
      "    - Pace, R. Kelley and Ronald Barry, Sparse Spatial Autoregressions,\n",
      "      Statistics and Probability Letters, 33 (1997) 291-297\n",
      "\n",
      "(20640, 8)\n",
      "(20640,)\n"
     ]
    }
   ],
   "source": [
    "from sklearn.datasets import fetch_california_housing\n",
    "housing = fetch_california_housing()\n",
    "print(housing.DESCR)\n",
    "print(housing.data.shape)\n",
    "print(housing.target.shape)"
   ]
  },
  {
   "cell_type": "code",
   "execution_count": 4,
   "metadata": {},
   "outputs": [
    {
     "name": "stdout",
     "output_type": "stream",
     "text": [
      "(11610, 8) (11610,)\n",
      "(3870, 8) (3870,)\n"
     ]
    }
   ],
   "source": [
    "from sklearn.model_selection import train_test_split\n",
    "x_train_all, x_test, y_train_all, y_test = train_test_split(housing.data, housing.target, random_state = 7)\n",
    "x_train, x_valid, y_train, y_valid = train_test_split(x_train_all, y_train_all,  random_state = 11)\n",
    "print(x_train.shape, y_train.shape)\n",
    "print(x_valid.shape, y_valid.shape)"
   ]
  },
  {
   "cell_type": "code",
   "execution_count": 5,
   "metadata": {},
   "outputs": [],
   "source": [
    "from sklearn.preprocessing import StandardScaler\n",
    "scaler = StandardScaler()\n",
    "x_train_scaled = scaler.fit_transform(x_train)\n",
    "x_test_scaled = scaler.transform(x_test)\n",
    "x_valid_scaled = scaler.transform(x_valid)"
   ]
  },
  {
   "cell_type": "markdown",
   "metadata": {},
   "source": [
    "### 构建模型"
   ]
  },
  {
   "cell_type": "code",
   "execution_count": 11,
   "metadata": {},
   "outputs": [],
   "source": [
    "input = keras.layers.Input(shape=x_train.shape[1:])\n",
    "hidden1 = keras.layers.Dense(30, activation='relu')(input)\n",
    "hidden2 = keras.layers.Dense(30, activation='relu')(hidden1)\n",
    "concat = keras.layers.concatenate([input, hidden2])\n",
    "output = keras.layers.Dense(1)(concat)\n",
    "\n",
    "model = keras.models.Model(inputs=[input], outputs=[output])\n",
    "\n",
    "model.compile(loss='mean_squared_error', optimizer='adam')"
   ]
  },
  {
   "cell_type": "code",
   "execution_count": 15,
   "metadata": {},
   "outputs": [
    {
     "name": "stdout",
     "output_type": "stream",
     "text": [
      "Model: \"model_1\"\n",
      "__________________________________________________________________________________________________\n",
      "Layer (type)                    Output Shape         Param #     Connected to                     \n",
      "==================================================================================================\n",
      "input_4 (InputLayer)            [(None, 8)]          0                                            \n",
      "__________________________________________________________________________________________________\n",
      "dense_9 (Dense)                 (None, 30)           270         input_4[0][0]                    \n",
      "__________________________________________________________________________________________________\n",
      "dense_10 (Dense)                (None, 30)           930         dense_9[0][0]                    \n",
      "__________________________________________________________________________________________________\n",
      "concatenate_3 (Concatenate)     (None, 38)           0           input_4[0][0]                    \n",
      "                                                                 dense_10[0][0]                   \n",
      "__________________________________________________________________________________________________\n",
      "dense_11 (Dense)                (None, 1)            39          concatenate_3[0][0]              \n",
      "==================================================================================================\n",
      "Total params: 1,239\n",
      "Trainable params: 1,239\n",
      "Non-trainable params: 0\n",
      "__________________________________________________________________________________________________\n",
      "None\n"
     ]
    }
   ],
   "source": [
    "print(model.summary())"
   ]
  },
  {
   "cell_type": "code",
   "execution_count": 9,
   "metadata": {
    "scrolled": true
   },
   "outputs": [
    {
     "name": "stdout",
     "output_type": "stream",
     "text": [
      "Train on 11610 samples, validate on 3870 samples\n",
      "Epoch 1/50\n",
      "11610/11610 [==============================] - 2s 191us/sample - loss: 1.0569 - val_loss: 0.6246\n",
      "Epoch 2/50\n",
      "11610/11610 [==============================] - 1s 80us/sample - loss: 0.5010 - val_loss: 0.4595\n",
      "Epoch 3/50\n",
      "11610/11610 [==============================] - 1s 80us/sample - loss: 0.3956 - val_loss: 0.3952\n",
      "Epoch 4/50\n",
      "11610/11610 [==============================] - 1s 80us/sample - loss: 0.3794 - val_loss: 0.3831\n",
      "Epoch 5/50\n",
      "11610/11610 [==============================] - 1s 82us/sample - loss: 0.3624 - val_loss: 0.3643\n",
      "Epoch 6/50\n",
      "11610/11610 [==============================] - 1s 82us/sample - loss: 0.3496 - val_loss: 0.3599\n",
      "Epoch 7/50\n",
      "11610/11610 [==============================] - 1s 83us/sample - loss: 0.3428 - val_loss: 0.3441\n",
      "Epoch 8/50\n",
      "11610/11610 [==============================] - 1s 83us/sample - loss: 0.3395 - val_loss: 0.3599\n",
      "Epoch 9/50\n",
      "11610/11610 [==============================] - 1s 81us/sample - loss: 0.3665 - val_loss: 0.3574\n",
      "Epoch 10/50\n",
      "11610/11610 [==============================] - 1s 85us/sample - loss: 0.3337 - val_loss: 0.3355\n",
      "Epoch 11/50\n",
      "11610/11610 [==============================] - 1s 109us/sample - loss: 0.3199 - val_loss: 0.3321\n",
      "Epoch 12/50\n",
      "11610/11610 [==============================] - 1s 99us/sample - loss: 0.3156 - val_loss: 0.3465\n",
      "Epoch 13/50\n",
      "11610/11610 [==============================] - 1s 90us/sample - loss: 0.3173 - val_loss: 0.3539\n",
      "Epoch 14/50\n",
      "11610/11610 [==============================] - 1s 91us/sample - loss: 0.3274 - val_loss: 0.3262\n",
      "Epoch 15/50\n",
      "11610/11610 [==============================] - 1s 84us/sample - loss: 0.3199 - val_loss: 0.3169\n",
      "Epoch 16/50\n",
      "11610/11610 [==============================] - 1s 106us/sample - loss: 0.3018 - val_loss: 0.3174\n",
      "Epoch 17/50\n",
      "11610/11610 [==============================] - 1s 93us/sample - loss: 0.3076 - val_loss: 0.3326\n",
      "Epoch 18/50\n",
      "11610/11610 [==============================] - 1s 108us/sample - loss: 0.3020 - val_loss: 0.3280\n",
      "Epoch 19/50\n",
      "11610/11610 [==============================] - 1s 103us/sample - loss: 0.3103 - val_loss: 0.3131\n",
      "Epoch 20/50\n",
      "11610/11610 [==============================] - 1s 105us/sample - loss: 0.2999 - val_loss: 0.3190\n",
      "Epoch 21/50\n",
      "11610/11610 [==============================] - 1s 110us/sample - loss: 0.3015 - val_loss: 0.3254\n",
      "Epoch 22/50\n",
      "11610/11610 [==============================] - 1s 126us/sample - loss: 0.2930 - val_loss: 0.3749\n",
      "Epoch 23/50\n",
      "11610/11610 [==============================] - 1s 88us/sample - loss: 0.2980 - val_loss: 0.3110\n",
      "Epoch 24/50\n",
      "11610/11610 [==============================] - 1s 82us/sample - loss: 0.2934 - val_loss: 0.3027\n",
      "Epoch 25/50\n",
      "11610/11610 [==============================] - 1s 113us/sample - loss: 0.2854 - val_loss: 0.3104\n",
      "Epoch 26/50\n",
      "11610/11610 [==============================] - 1s 101us/sample - loss: 0.2891 - val_loss: 0.3097\n",
      "Epoch 27/50\n",
      "11610/11610 [==============================] - 1s 77us/sample - loss: 0.2976 - val_loss: 0.3137\n",
      "Epoch 28/50\n",
      "11610/11610 [==============================] - 1s 89us/sample - loss: 0.2921 - val_loss: 0.3065\n",
      "Epoch 29/50\n",
      "11610/11610 [==============================] - 1s 79us/sample - loss: 0.2877 - val_loss: 0.3159\n",
      "Epoch 30/50\n",
      "11610/11610 [==============================] - 1s 92us/sample - loss: 0.2884 - val_loss: 0.2998\n",
      "Epoch 31/50\n",
      "11610/11610 [==============================] - 1s 85us/sample - loss: 0.2785 - val_loss: 0.3107\n",
      "Epoch 32/50\n",
      "11610/11610 [==============================] - 1s 79us/sample - loss: 0.2783 - val_loss: 0.3084\n",
      "Epoch 33/50\n",
      "11610/11610 [==============================] - 1s 85us/sample - loss: 0.2764 - val_loss: 0.3003\n",
      "Epoch 34/50\n",
      "11610/11610 [==============================] - 1s 78us/sample - loss: 0.2772 - val_loss: 0.3055\n",
      "Epoch 35/50\n",
      "11610/11610 [==============================] - 1s 103us/sample - loss: 0.2729 - val_loss: 0.2997\n",
      "Epoch 36/50\n",
      "11610/11610 [==============================] - 1s 124us/sample - loss: 0.2726 - val_loss: 0.3047\n",
      "Epoch 37/50\n",
      "11610/11610 [==============================] - 1s 80us/sample - loss: 0.2766 - val_loss: 0.3024\n",
      "Epoch 38/50\n",
      "11610/11610 [==============================] - 1s 78us/sample - loss: 0.2813 - val_loss: 0.2973\n",
      "Epoch 39/50\n",
      "11610/11610 [==============================] - 1s 83us/sample - loss: 0.2743 - val_loss: 0.3113\n",
      "Epoch 40/50\n",
      "11610/11610 [==============================] - 1s 80us/sample - loss: 0.2799 - val_loss: 0.2950\n",
      "Epoch 41/50\n",
      "11610/11610 [==============================] - 1s 80us/sample - loss: 0.2693 - val_loss: 0.2977\n",
      "Epoch 42/50\n",
      "11610/11610 [==============================] - 1s 83us/sample - loss: 0.2679 - val_loss: 0.3066\n",
      "Epoch 43/50\n",
      "11610/11610 [==============================] - 1s 77us/sample - loss: 0.2672 - val_loss: 0.2975\n",
      "Epoch 44/50\n",
      "11610/11610 [==============================] - 1s 79us/sample - loss: 0.2670 - val_loss: 0.2971\n",
      "Epoch 45/50\n",
      "11610/11610 [==============================] - 1s 80us/sample - loss: 0.2715 - val_loss: 0.3197\n",
      "Epoch 46/50\n",
      "11610/11610 [==============================] - 1s 80us/sample - loss: 0.2710 - val_loss: 0.2944\n",
      "Epoch 47/50\n",
      "11610/11610 [==============================] - 1s 79us/sample - loss: 0.2654 - val_loss: 0.4025\n",
      "Epoch 48/50\n",
      "11610/11610 [==============================] - 1s 83us/sample - loss: 0.2660 - val_loss: 0.3023\n",
      "Epoch 49/50\n",
      "11610/11610 [==============================] - 1s 81us/sample - loss: 0.2656 - val_loss: 0.2989\n",
      "Epoch 50/50\n",
      "11610/11610 [==============================] - 1s 87us/sample - loss: 0.2679 - val_loss: 0.2934\n"
     ]
    }
   ],
   "source": [
    "history = model.fit(x_train_scaled, y_train, validation_data=(x_valid_scaled, y_valid), epochs=50)"
   ]
  },
  {
   "cell_type": "code",
   "execution_count": 59,
   "metadata": {},
   "outputs": [],
   "source": [
    "def plot_result(history):\n",
    "    pd.DataFrame(history.history).plot(figsize = (8, 5))\n",
    "    plt.grid(True)\n",
    "    plt.gca().set_ylim(0, 1)\n",
    "    plt.show()"
   ]
  },
  {
   "cell_type": "code",
   "execution_count": 60,
   "metadata": {},
   "outputs": [
    {
     "data": {
      "image/png": "[encoded data removed]",
      "text/plain": [
       "<Figure size 576x360 with 1 Axes>"
      ]
     },
     "metadata": {
      "needs_background": "light"
     },
     "output_type": "display_data"
    }
   ],
   "source": [
    "plot_result(history)"
   ]
  },
  {
   "cell_type": "markdown",
   "metadata": {
    "scrolled": true
   },
   "source": [
    "### 多输入\n",
    "上面是相同特征不同处理再concate的wide&deep，如果是特征不一样呢？"
   ]
  },
  {
   "cell_type": "code",
   "execution_count": 22,
   "metadata": {},
   "outputs": [
    {
     "name": "stdout",
     "output_type": "stream",
     "text": [
      "Model: \"model_3\"\n",
      "__________________________________________________________________________________________________\n",
      "Layer (type)                    Output Shape         Param #     Connected to                     \n",
      "==================================================================================================\n",
      "input_8 (InputLayer)            [(None, 6)]          0                                            \n",
      "__________________________________________________________________________________________________\n",
      "dense_15 (Dense)                (None, 30)           210         input_8[0][0]                    \n",
      "__________________________________________________________________________________________________\n",
      "input_7 (InputLayer)            [(None, 5)]          0                                            \n",
      "__________________________________________________________________________________________________\n",
      "dense_16 (Dense)                (None, 30)           930         dense_15[0][0]                   \n",
      "__________________________________________________________________________________________________\n",
      "concatenate_5 (Concatenate)     (None, 35)           0           input_7[0][0]                    \n",
      "                                                                 dense_16[0][0]                   \n",
      "__________________________________________________________________________________________________\n",
      "dense_17 (Dense)                (None, 1)            36          concatenate_5[0][0]              \n",
      "==================================================================================================\n",
      "Total params: 1,176\n",
      "Trainable params: 1,176\n",
      "Non-trainable params: 0\n",
      "__________________________________________________________________________________________________\n"
     ]
    }
   ],
   "source": [
    "input_wide = keras.layers.Input(shape=[5])\n",
    "input_deep = keras.layers.Input(shape=[6])\n",
    "hidden_deep1 = keras.layers.Dense(30, activation='relu')(input_deep)\n",
    "hidden_deep2 = keras.layers.Dense(30, activation='relu')(hidden_deep1)\n",
    "concat = keras.layers.concatenate([input_wide, hidden_deep2])\n",
    "output = keras.layers.Dense(1)(concat)\n",
    "\n",
    "model = keras.models.Model(inputs = [input_wide, input_deep], outputs = [output])\n",
    "model.compile(loss='mean_squared_error', optimizer='adam')\n",
    "model.summary()"
   ]
  },
  {
   "cell_type": "code",
   "execution_count": 23,
   "metadata": {
    "scrolled": true
   },
   "outputs": [
    {
     "name": "stdout",
     "output_type": "stream",
     "text": [
      "Train on 11610 samples, validate on 3870 samples\n",
      "Epoch 1/50\n",
      "11610/11610 [==============================] - 2s 165us/sample - loss: 1.6940 - val_loss: 0.8155\n",
      "Epoch 2/50\n",
      "11610/11610 [==============================] - 1s 88us/sample - loss: 0.5902 - val_loss: 0.5505\n",
      "Epoch 3/50\n",
      "11610/11610 [==============================] - 1s 83us/sample - loss: 0.4757 - val_loss: 0.4649\n",
      "Epoch 4/50\n",
      "11610/11610 [==============================] - 1s 86us/sample - loss: 0.4221 - val_loss: 0.4469\n",
      "Epoch 5/50\n",
      "11610/11610 [==============================] - 1s 84us/sample - loss: 0.3837 - val_loss: 0.4228\n",
      "Epoch 6/50\n",
      "11610/11610 [==============================] - 1s 87us/sample - loss: 0.3659 - val_loss: 0.3860\n",
      "Epoch 7/50\n",
      "11610/11610 [==============================] - 1s 95us/sample - loss: 0.3511 - val_loss: 0.3600\n",
      "Epoch 8/50\n",
      "11610/11610 [==============================] - 1s 102us/sample - loss: 0.3457 - val_loss: 0.3496\n",
      "Epoch 9/50\n",
      "11610/11610 [==============================] - 1s 94us/sample - loss: 0.3410 - val_loss: 0.3542\n",
      "Epoch 10/50\n",
      "11610/11610 [==============================] - 1s 104us/sample - loss: 0.3512 - val_loss: 0.3449\n",
      "Epoch 11/50\n",
      "11610/11610 [==============================] - 1s 97us/sample - loss: 0.3349 - val_loss: 0.3389\n",
      "Epoch 12/50\n",
      "11610/11610 [==============================] - 1s 83us/sample - loss: 0.3271 - val_loss: 0.3463\n",
      "Epoch 13/50\n",
      "11610/11610 [==============================] - 1s 83us/sample - loss: 0.3268 - val_loss: 0.3348\n",
      "Epoch 14/50\n",
      "11610/11610 [==============================] - 1s 82us/sample - loss: 0.3307 - val_loss: 0.3404\n",
      "Epoch 15/50\n",
      "11610/11610 [==============================] - 1s 84us/sample - loss: 0.3271 - val_loss: 0.3506\n",
      "Epoch 16/50\n",
      "11610/11610 [==============================] - 1s 98us/sample - loss: 0.3256 - val_loss: 0.3352\n",
      "Epoch 17/50\n",
      "11610/11610 [==============================] - 1s 87us/sample - loss: 0.3204 - val_loss: 0.3426\n",
      "Epoch 18/50\n",
      "11610/11610 [==============================] - 1s 95us/sample - loss: 0.3202 - val_loss: 0.3320\n",
      "Epoch 19/50\n",
      "11610/11610 [==============================] - 1s 108us/sample - loss: 0.3162 - val_loss: 0.3275\n",
      "Epoch 20/50\n",
      "11610/11610 [==============================] - 1s 85us/sample - loss: 0.3154 - val_loss: 0.3338\n",
      "Epoch 21/50\n",
      "11610/11610 [==============================] - 1s 86us/sample - loss: 0.3230 - val_loss: 0.3308\n",
      "Epoch 22/50\n",
      "11610/11610 [==============================] - 1s 84us/sample - loss: 0.3152 - val_loss: 0.3275\n",
      "Epoch 23/50\n",
      "11610/11610 [==============================] - 1s 89us/sample - loss: 0.3159 - val_loss: 0.3441\n",
      "Epoch 24/50\n",
      "11610/11610 [==============================] - 1s 103us/sample - loss: 0.3142 - val_loss: 0.3274\n",
      "Epoch 25/50\n",
      "11610/11610 [==============================] - 1s 86us/sample - loss: 0.3114 - val_loss: 0.3273\n",
      "Epoch 26/50\n",
      "11610/11610 [==============================] - 1s 105us/sample - loss: 0.3118 - val_loss: 0.3360\n",
      "Epoch 27/50\n",
      "11610/11610 [==============================] - 1s 93us/sample - loss: 0.3155 - val_loss: 0.3300\n",
      "Epoch 28/50\n",
      "11610/11610 [==============================] - 1s 96us/sample - loss: 0.3112 - val_loss: 0.3236\n",
      "Epoch 29/50\n",
      "11610/11610 [==============================] - 1s 96us/sample - loss: 0.3100 - val_loss: 0.3251\n",
      "Epoch 30/50\n",
      "11610/11610 [==============================] - 1s 92us/sample - loss: 0.3070 - val_loss: 0.3251\n",
      "Epoch 31/50\n",
      "11610/11610 [==============================] - 1s 93us/sample - loss: 0.3078 - val_loss: 0.3299\n",
      "Epoch 32/50\n",
      "11610/11610 [==============================] - 1s 86us/sample - loss: 0.3080 - val_loss: 0.3252\n",
      "Epoch 33/50\n",
      "11610/11610 [==============================] - 1s 87us/sample - loss: 0.3084 - val_loss: 0.3306\n",
      "Epoch 34/50\n",
      "11610/11610 [==============================] - 1s 93us/sample - loss: 0.3079 - val_loss: 0.3227\n",
      "Epoch 35/50\n",
      "11610/11610 [==============================] - 1s 95us/sample - loss: 0.3087 - val_loss: 0.3263\n",
      "Epoch 36/50\n",
      "11610/11610 [==============================] - 1s 90us/sample - loss: 0.3036 - val_loss: 0.3390\n",
      "Epoch 37/50\n",
      "11610/11610 [==============================] - 1s 87us/sample - loss: 0.3032 - val_loss: 0.3182\n",
      "Epoch 38/50\n",
      "11610/11610 [==============================] - 1s 84us/sample - loss: 0.3006 - val_loss: 0.3262\n",
      "Epoch 39/50\n",
      "11610/11610 [==============================] - 1s 86us/sample - loss: 0.3018 - val_loss: 0.3207\n",
      "Epoch 40/50\n",
      "11610/11610 [==============================] - 1s 86us/sample - loss: 0.3009 - val_loss: 0.3247\n",
      "Epoch 41/50\n",
      "11610/11610 [==============================] - 1s 86us/sample - loss: 0.3033 - val_loss: 0.3186\n",
      "Epoch 42/50\n",
      "11610/11610 [==============================] - 1s 85us/sample - loss: 0.3032 - val_loss: 0.3296\n",
      "Epoch 43/50\n",
      "11610/11610 [==============================] - 1s 85us/sample - loss: 0.3029 - val_loss: 0.3214\n",
      "Epoch 44/50\n",
      "11610/11610 [==============================] - 1s 91us/sample - loss: 0.2997 - val_loss: 0.3146\n",
      "Epoch 45/50\n",
      "11610/11610 [==============================] - 1s 93us/sample - loss: 0.3017 - val_loss: 0.3159\n",
      "Epoch 46/50\n",
      "11610/11610 [==============================] - 1s 95us/sample - loss: 0.2984 - val_loss: 0.3189\n",
      "Epoch 47/50\n",
      "11610/11610 [==============================] - 1s 87us/sample - loss: 0.2970 - val_loss: 0.3170\n",
      "Epoch 48/50\n",
      "11610/11610 [==============================] - 1s 89us/sample - loss: 0.2971 - val_loss: 0.3309\n",
      "Epoch 49/50\n",
      "11610/11610 [==============================] - 1s 91us/sample - loss: 0.2954 - val_loss: 0.3126\n",
      "Epoch 50/50\n",
      "11610/11610 [==============================] - 1s 92us/sample - loss: 0.2962 - val_loss: 0.3163\n"
     ]
    }
   ],
   "source": [
    "x_train_scaled_wide = x_train_scaled[:, :5]\n",
    "x_train_scaled_deep = x_train_scaled[:, 2:]\n",
    "x_valid_scaled_wide = x_valid_scaled[:, :5]\n",
    "x_valid_scaled_deep = x_valid_scaled[:, 2:]\n",
    "x_test_scaled_wide = x_test_scaled[:, :5]\n",
    "x_test_scaled_deep = x_test_scaled[:, 2:]\n",
    "history = model.fit([x_train_scaled_wide,x_train_scaled_deep], \n",
    "                    y_train, \n",
    "                    validation_data=([x_valid_scaled_wide, x_valid_scaled_deep], y_valid), \n",
    "                    epochs=50)"
   ]
  },
  {
   "cell_type": "code",
   "execution_count": 24,
   "metadata": {},
   "outputs": [
    {
     "data": {
      "image/png": "[encoded data removed]",
      "text/plain": [
       "<Figure size 576x360 with 1 Axes>"
      ]
     },
     "metadata": {
      "needs_background": "light"
     },
     "output_type": "display_data"
    }
   ],
   "source": [
    "def show_learning_cure(history):\n",
    "    pd.DataFrame(history.history).plot(figsize=(8, 5))\n",
    "    plt.ylim(0, 1)\n",
    "    plt.grid(True)\n",
    "    plt.xlabel('time')\n",
    "    plt.ylabel('loss')\n",
    "    plt.show()\n",
    "show_learning_cure(history)"
   ]
  },
  {
   "cell_type": "markdown",
   "metadata": {},
   "source": [
    "### 超参数\n",
    "超参数往往有四个方法：网格搜索，随机搜索，遗传算法，启发式搜索"
   ]
  },
  {
   "cell_type": "code",
   "execution_count": 29,
   "metadata": {},
   "outputs": [],
   "source": [
    "from sklearn.datasets import fetch_california_housing\n",
    "data = fetch_california_housing()\n",
    "train = data.data\n",
    "target = data.target"
   ]
  },
  {
   "cell_type": "code",
   "execution_count": null,
   "metadata": {},
   "outputs": [],
   "source": []
  }
 ],
 "metadata": {
  "kernelspec": {
   "display_name": "Python 3",
   "language": "python",
   "name": "python3"
  },
  "language_info": {
   "codemirror_mode": {
    "name": "ipython",
    "version": 3
   },
   "file_extension": ".py",
   "mimetype": "text/x-python",
   "name": "python",
   "nbconvert_exporter": "python",
   "pygments_lexer": "ipython3",
   "version": "3.6.8"
  }
 },
 "nbformat": 4,
 "nbformat_minor": 2
}

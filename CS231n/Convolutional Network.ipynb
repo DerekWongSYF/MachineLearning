{
 "cells": [
  {
   "cell_type": "code",
   "execution_count": 1,
   "metadata": {
    "collapsed": true
   },
   "outputs": [],
   "source": [
    "#Convolutional Network\n",
    "import numpy as np\n",
    "from PIL import Image"
   ]
  },
  {
   "cell_type": "code",
   "execution_count": 2,
   "metadata": {},
   "outputs": [],
   "source": [
    "# show picture\n",
    "import pickle\n",
    "\n",
    "def getDate(file):\n",
    "    with open(file, 'rb') as fileOpen:\n",
    "        dict = pickle.load(fileOpen, encoding=\"bytes\")\n",
    "    return dict\n",
    "\n"
   ]
  },
  {
   "cell_type": "code",
   "execution_count": 3,
   "metadata": {},
   "outputs": [],
   "source": [
    "dict1 = getDate(\"CS231n/cifar-10-batches-py/data_batch_1\")\n",
    "data_1 = dict1[b'data']\n",
    "label_1 = dict1[b'labels']"
   ]
  },
  {
   "cell_type": "code",
   "execution_count": 40,
   "metadata": {},
   "outputs": [],
   "source": [
    "def showPicture(imgX, imgY, input_dim):\n",
    "    imgX = imgX.reshape(input_dim)\n",
    "    imgs = imgX\n",
    "    img0 = imgs[0]\n",
    "    img1 = imgs[1]\n",
    "    img2 = imgs[2]\n",
    "    i0 = Image.fromarray(img0)\n",
    "    i1 = Image.fromarray(img1)\n",
    "    i2 = Image.fromarray(img2)\n",
    "    img = Image.merge(\"RGB\", (i0, i1, i2))\n",
    "    img.save(\"CS231n/cifar-10-batches-py/pictures/\" +\n",
    "             str(imgY) +\n",
    "             \".png\", \"png\")\n",
    "\n",
    "    return img\n"
   ]
  },
  {
   "cell_type": "code",
   "execution_count": 41,
   "metadata": {
    "collapsed": false
   },
   "outputs": [],
   "source": [
    "img = showPicture(data_1[0], label_1[0], (3, 32, 32))"
   ]
  },
  {
   "cell_type": "code",
   "execution_count": 140,
   "metadata": {},
   "outputs": [],
   "source": [
    "class ThreeLayersNetwork:\n",
    "    def __init__(self, input_dim=(3, 32, 32), num_filters=32, filter_size=7,\n",
    "                 hidden_dim=128, num_classes=10, weight_scale=1e-3, reg=1e-6,\n",
    "                 learning_rate=1e-5, dtype=np.float32):\n",
    "        self.params = {}\n",
    "        self.input_dim = input_dim\n",
    "        self.reg = reg\n",
    "        self.dtype = dtype\n",
    "        self.learning_rate = learning_rate\n",
    "        C, H, W = input_dim\n",
    "        self.params['W1'] = weight_scale * np.random.randn(num_filters,\n",
    "                                                           C,\n",
    "                                                           filter_size,\n",
    "                                                           filter_size)\n",
    "        self.params['b1'] = np.zeros(num_filters)\n",
    "        self.params['W2'] = weight_scale * np.random.randn(int(num_filters * H * W / 4),\n",
    "                                                           hidden_dim)\n",
    "        self.params['b2'] = np.zeros(hidden_dim)\n",
    "        self.params['W3'] = weight_scale * np.random.randn(hidden_dim, num_classes)\n",
    "        self.params['b3'] = np.zeros(num_classes)\n",
    "\n",
    "        pass\n",
    "\n",
    "    def conv_front(self, x, weight, b, conv_param):\n",
    "        stride, pad = conv_param['stride'], conv_param['pad']\n",
    "        N, C, H, W = x.shape\n",
    "        F, C, HH, WW = weight.shape\n",
    "        x_padded = np.pad(x,\n",
    "                          ((0, 0), (0, 0), (pad, pad), (pad, pad)),\n",
    "                          mode='constant')\n",
    "        H_new = int((H + 2 * pad - HH) / stride + 1)\n",
    "        W_new = int((W + 2 * pad - WW) / stride + 1)\n",
    "\n",
    "        output = np.zeros((N, F, H_new, W_new))\n",
    "\n",
    "        for i in range(N):\n",
    "            for f in range(F):\n",
    "                for h in range(H_new):\n",
    "                    for w in range(W_new):\n",
    "                        window = x_padded[i, :,\n",
    "                                 h * stride:h * stride + HH,\n",
    "                                 w * stride:w * stride + WW]\n",
    "                        output[i, f, h, w] = np.sum(window * weight[f]) + b[f]\n",
    "                        pass\n",
    "        cache = (x, weight, b, conv_param)\n",
    "        return output, cache\n",
    "\n",
    "    def relu(self, x_new):\n",
    "        output = np.maximum(0, x_new)\n",
    "        cache = x_new\n",
    "        return output, cache\n",
    "        pass\n",
    "\n",
    "    def pooling(self, x, pool_param):\n",
    "        pool_height, pool_weight, stride = pool_param[\"pool_height\"], \\\n",
    "                                           pool_param[\"pool_weight\"], \\\n",
    "                                           pool_param[\"stride\"]\n",
    "        N, C, H, W = x.shape\n",
    "        H_new = 1 + int((H - pool_height) / stride)\n",
    "        W_new = 1 + int((W - pool_weight) / stride)\n",
    "        output = np.zeros((N, C, H_new, W_new))\n",
    "        for i in range(N):\n",
    "            for c in range(C):\n",
    "                for h in range(H_new):\n",
    "                    for w in range(W_new):\n",
    "                        window = x[i,\n",
    "                                 c,\n",
    "                                 h * stride:h * stride + pool_height,\n",
    "                                 w * stride:w * stride + pool_weight]\n",
    "                        output[i, c, h, w] = np.max(window)\n",
    "        cache = (x, pool_param)\n",
    "        return output, cache\n",
    "\n",
    "    def full_connection(self, x, w, b):\n",
    "        score = x.dot(w) + b\n",
    "        cache = (x, w, b)\n",
    "        return score, cache\n",
    "\n",
    "    def softmax(self, x, y, w0, w1):\n",
    "        n = x.shape[0]\n",
    "        correct_classes = x[range(x.shape[0]), list(y)].reshape(-1, 1)\n",
    "        exp_sum = np.sum(np.exp(x), axis=1).reshape(-1, 1)\n",
    "        loss = np.sum(np.log(exp_sum) - correct_classes)\n",
    "        loss = loss / n + \\\n",
    "               0.5 * self.reg * np.sum(w0 ** 2) + \\\n",
    "               0.5 * self.reg * np.sum(w1 ** 2)\n",
    "\n",
    "        dw = np.exp(x) / exp_sum\n",
    "        dw[range(n), list(y)] -= 1\n",
    "        dw /= n\n",
    "        return loss, dw\n",
    "\n",
    "    def back_propagation(self, dout, cache):\n",
    "        x, w, b = cache\n",
    "        n = dout.shape[0]\n",
    "        dx = dout.dot(w.T)\n",
    "        dw = x.T.dot(dout)\n",
    "        db = np.sum(dout, axis=0) / n\n",
    "        return dx, dw, db\n",
    "        pass\n",
    "\n",
    "    def relu_back(self, dx, cache):\n",
    "        x = cache\n",
    "        dout = dx\n",
    "        dout[x <= 0] = 0\n",
    "        return dout\n",
    "        pass\n",
    "\n",
    "    def back_pool(self, dout, cache):\n",
    "        x, pool_param = cache\n",
    "        pool_height, pool_weight, stride = pool_param[\"pool_height\"], \\\n",
    "                                           pool_param[\"pool_weight\"], \\\n",
    "                                           pool_param[\"stride\"]\n",
    "        N, C, H, W = x.shape\n",
    "        H_new = int((H - pool_height) / stride) + 1\n",
    "        W_new = int((W - pool_weight) / stride) + 1\n",
    "        dx = np.zeros_like(x)\n",
    "        for i in range(N):\n",
    "            for c in range(C):\n",
    "                for h in range(H_new):\n",
    "                    for w in range(W_new):\n",
    "                        window = x[i,\n",
    "                                 c,\n",
    "                                 h * stride:h * stride + pool_height,\n",
    "                                 w * stride:w * stride + pool_weight]\n",
    "                        max_number = np.max(window)\n",
    "                        dx[i,\n",
    "                        c,\n",
    "                        h * stride:h * stride + pool_height,\n",
    "                        w * stride:w * stride + pool_weight] = \\\n",
    "                            (window == max_number) * dout[i, c, h, w]\n",
    "\n",
    "        return dx\n",
    "        pass\n",
    "\n",
    "    def back_conv(self, dout, cache):\n",
    "        x, weight, b, conv_param = cache\n",
    "        stride, pad = conv_param['stride'], conv_param['pad']\n",
    "        F, C, HH, WW = weight.shape\n",
    "        N, C, H, W = x.shape\n",
    "        dx = np.zeros_like(x)\n",
    "        dw = np.zeros_like(weight)\n",
    "        db = np.zeros_like(b)\n",
    "        x = np.pad(x, ((0, 0), (0, 0), (pad, pad), (pad, pad)), mode='constant')\n",
    "        dx = np.pad(dx, ((0, 0), (0, 0), (pad, pad), (pad, pad)), mode='constant')\n",
    "        H_new = int((H + 2 * pad - HH) / stride + 1)\n",
    "        W_new = int((W + 2 * pad - WW) / stride + 1)\n",
    "        \n",
    "        for i in range(N):\n",
    "            for f in range(F):\n",
    "                for h in range(H_new):\n",
    "                    for w in range(W_new):\n",
    "                        window = x[i,\n",
    "                                 :,\n",
    "                                 h * stride:h * stride + HH,\n",
    "                                 w * stride:w * stride + WW]\n",
    "                        db[f] += dout[i, f, h, w]\n",
    "                        dw[f] += window * dout[i, f, h, w]\n",
    "                        dx = np.float32(dx)\n",
    "                        dx[i,\n",
    "                        :,\n",
    "                        h * stride:h * stride + HH,\n",
    "                        w * stride:w * stride + WW] += weight[f] * dout[i, f, h, w]\n",
    "        return dx, dw, db\n",
    "        pass\n",
    "\n",
    "    def loss(self, x, y=None):\n",
    "        W1, b1 = self.params['W1'], self.params['b1']\n",
    "        W2, b2 = self.params['W2'], self.params['b2']\n",
    "        W3, b3 = self.params['W3'], self.params['b3']\n",
    "\n",
    "        filter_size = W1.shape[2]\n",
    "        conv_param = {'stride': int(1), 'pad': int((filter_size - 1) / 2)}\n",
    "        pool_param = {'pool_height': 2, 'pool_weight': 2, 'stride': 2}\n",
    "\n",
    "        output, cache_conv = self.conv_front(x, W1, b1, conv_param)\n",
    "\n",
    "        output, cache_relu = self.relu(output)\n",
    "\n",
    "        output, cache_pool = self.pooling(output, pool_param)\n",
    "\n",
    "        pool_shape = output.shape\n",
    "\n",
    "        n = output.shape[0]\n",
    "\n",
    "        output = output.reshape(n, -1)\n",
    "\n",
    "        output, cache_full = self.full_connection(output, W2, b2)\n",
    "\n",
    "        output, cache_full_relu = self.relu(output)\n",
    "\n",
    "        output, cache_full_2 = self.full_connection(output, W3, b3)\n",
    "\n",
    "        loss, dx = self.softmax(output, y, W2, W3)\n",
    "\n",
    "        print(\"loss : \", loss)\n",
    "\n",
    "        dout, dw, db = self.back_propagation(dx, cache_full_2)\n",
    "\n",
    "        W3 -= self.learning_rate * dw\n",
    "\n",
    "        b3 -= self.learning_rate * db\n",
    "\n",
    "        dout = self.relu_back(dout, cache_full_relu)\n",
    "\n",
    "        dout, dw, db = self.back_propagation(dout, cache_full)\n",
    "\n",
    "        W2 -= self.learning_rate * dw\n",
    "\n",
    "        b2 -= self.learning_rate * db\n",
    "\n",
    "        dout = dout.reshape(pool_shape)\n",
    "\n",
    "        dout = self.back_pool(dout, cache_pool)\n",
    "\n",
    "        dout = self.relu_back(dout, cache_relu)\n",
    "\n",
    "        dx, dw, db = self.back_conv(dout, cache_conv)\n",
    "\n",
    "        W1 -= self.learning_rate * dw\n",
    "\n",
    "        b1 -= self.learning_rate * db\n",
    "\n",
    "        self.params['W3'] = W3\n",
    "        self.params['b3'] = b3\n",
    "        self.params['W2'] = W2\n",
    "        self.params['b2'] = b2\n",
    "        self.params['W1'] = W1\n",
    "        self.params['b1'] = b1\n",
    "\n",
    "        return loss\n",
    "    pass\n"
   ]
  },
  {
   "cell_type": "code",
   "execution_count": 141,
   "metadata": {
    "collapsed": false
   },
   "outputs": [
    {
     "name": "stdout",
     "output_type": "stream",
     "text": [
      "loss :  2.3025855947961538\n"
     ]
    },
    {
     "name": "stdout",
     "output_type": "stream",
     "text": [
      "loss :  2.3025854228188067\n"
     ]
    },
    {
     "name": "stdout",
     "output_type": "stream",
     "text": [
      "loss :  2.30258524916966\n"
     ]
    },
    {
     "name": "stdout",
     "output_type": "stream",
     "text": [
      "loss :  2.302585075466517\n"
     ]
    },
    {
     "name": "stdout",
     "output_type": "stream",
     "text": [
      "loss :  2.302584901800097\n"
     ]
    },
    {
     "name": "stdout",
     "output_type": "stream",
     "text": [
      "loss :  2.302584728476044\n"
     ]
    },
    {
     "name": "stdout",
     "output_type": "stream",
     "text": [
      "loss :  2.3025845549452786\n"
     ]
    },
    {
     "name": "stdout",
     "output_type": "stream",
     "text": [
      "loss :  2.3025843812341953\n"
     ]
    },
    {
     "name": "stdout",
     "output_type": "stream",
     "text": [
      "loss :  2.30258420758394\n"
     ]
    },
    {
     "name": "stdout",
     "output_type": "stream",
     "text": [
      "loss :  2.302584033949131\n"
     ]
    }
   ],
   "source": [
    "network = ThreeLayersNetwork()\n",
    "start = 0\n",
    "batch = 100\n",
    "x = data_1[start: batch + start].reshape(batch-start, 3, 32, 32)\n",
    "y = label_1[start: batch + start]\n",
    "for i in range(10):\n",
    "    network.loss(x, y)\n"
   ]
  },
  {
   "cell_type": "code",
   "execution_count": 142,
   "metadata": {},
   "outputs": [],
   "source": [
    ""
   ]
  },
  {
   "cell_type": "code",
   "execution_count": null,
   "metadata": {},
   "outputs": [],
   "source": []
  }
 ],
 "metadata": {
  "kernelspec": {
   "display_name": "Python 2",
   "language": "python",
   "name": "python2"
  },
  "language_info": {
   "codemirror_mode": {
    "name": "ipython",
    "version": 2
   },
   "file_extension": ".py",
   "mimetype": "text/x-python",
   "name": "python",
   "nbconvert_exporter": "python",
   "pygments_lexer": "ipython2",
   "version": "2.7.6"
  }
 },
 "nbformat": 4,
 "nbformat_minor": 0
}
